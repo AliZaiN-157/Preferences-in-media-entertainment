{
 "cells": [
  {
   "cell_type": "code",
   "execution_count": 59,
   "metadata": {},
   "outputs": [],
   "source": [
    "import pandas as pd\n",
    "import numpy as np\n",
    "import matplotlib.pyplot as plt\n",
    "import seaborn as sns\n",
    "%matplotlib inline"
   ]
  },
  {
   "cell_type": "code",
   "execution_count": 60,
   "metadata": {},
   "outputs": [
    {
     "data": {
      "text/html": [
       "<div>\n",
       "<style scoped>\n",
       "    .dataframe tbody tr th:only-of-type {\n",
       "        vertical-align: middle;\n",
       "    }\n",
       "\n",
       "    .dataframe tbody tr th {\n",
       "        vertical-align: top;\n",
       "    }\n",
       "\n",
       "    .dataframe thead th {\n",
       "        text-align: right;\n",
       "    }\n",
       "</style>\n",
       "<table border=\"1\" class=\"dataframe\">\n",
       "  <thead>\n",
       "    <tr style=\"text-align: right;\">\n",
       "      <th></th>\n",
       "      <th>Timestamp</th>\n",
       "      <th>Age</th>\n",
       "      <th>What is your go-to source of entertainment?</th>\n",
       "      <th>On average, how many hours in a day do you spend consuming media?</th>\n",
       "    </tr>\n",
       "  </thead>\n",
       "  <tbody>\n",
       "    <tr>\n",
       "      <th>0</th>\n",
       "      <td>2/8/2023 10:04:47</td>\n",
       "      <td>18</td>\n",
       "      <td>TV Shows</td>\n",
       "      <td>5.0</td>\n",
       "    </tr>\n",
       "    <tr>\n",
       "      <th>1</th>\n",
       "      <td>2/8/2023 10:46:24</td>\n",
       "      <td>20</td>\n",
       "      <td>TV Shows</td>\n",
       "      <td>3.0</td>\n",
       "    </tr>\n",
       "    <tr>\n",
       "      <th>2</th>\n",
       "      <td>2/8/2023 10:53:23</td>\n",
       "      <td>21</td>\n",
       "      <td>Social Media (YouTube, Vimeo etc.)</td>\n",
       "      <td>4.0</td>\n",
       "    </tr>\n",
       "    <tr>\n",
       "      <th>3</th>\n",
       "      <td>2/8/2023 10:54:18</td>\n",
       "      <td>19</td>\n",
       "      <td>Anime</td>\n",
       "      <td>1.0</td>\n",
       "    </tr>\n",
       "    <tr>\n",
       "      <th>4</th>\n",
       "      <td>2/8/2023 11:04:42</td>\n",
       "      <td>19</td>\n",
       "      <td>Social Media (YouTube, Vimeo etc.)</td>\n",
       "      <td>10.0</td>\n",
       "    </tr>\n",
       "  </tbody>\n",
       "</table>\n",
       "</div>"
      ],
      "text/plain": [
       "           Timestamp  Age What is your go-to source of entertainment?  \\\n",
       "0  2/8/2023 10:04:47   18                                    TV Shows   \n",
       "1  2/8/2023 10:46:24   20                                    TV Shows   \n",
       "2  2/8/2023 10:53:23   21          Social Media (YouTube, Vimeo etc.)   \n",
       "3  2/8/2023 10:54:18   19                                       Anime   \n",
       "4  2/8/2023 11:04:42   19          Social Media (YouTube, Vimeo etc.)   \n",
       "\n",
       "   On average, how many hours in a day do you spend consuming media?  \n",
       "0                                                5.0                  \n",
       "1                                                3.0                  \n",
       "2                                                4.0                  \n",
       "3                                                1.0                  \n",
       "4                                               10.0                  "
      ]
     },
     "execution_count": 60,
     "metadata": {},
     "output_type": "execute_result"
    }
   ],
   "source": [
    "#read csv data\n",
    "df = pd.read_csv(\"A1.1-data.csv\")\n",
    "df.head()"
   ]
  },
  {
   "cell_type": "code",
   "execution_count": 61,
   "metadata": {},
   "outputs": [
    {
     "data": {
      "text/html": [
       "<div>\n",
       "<style scoped>\n",
       "    .dataframe tbody tr th:only-of-type {\n",
       "        vertical-align: middle;\n",
       "    }\n",
       "\n",
       "    .dataframe tbody tr th {\n",
       "        vertical-align: top;\n",
       "    }\n",
       "\n",
       "    .dataframe thead th {\n",
       "        text-align: right;\n",
       "    }\n",
       "</style>\n",
       "<table border=\"1\" class=\"dataframe\">\n",
       "  <thead>\n",
       "    <tr style=\"text-align: right;\">\n",
       "      <th></th>\n",
       "      <th>Age</th>\n",
       "      <th>What is your go-to source of entertainment?</th>\n",
       "      <th>On average, how many hours in a day do you spend consuming media?</th>\n",
       "    </tr>\n",
       "  </thead>\n",
       "  <tbody>\n",
       "    <tr>\n",
       "      <th>0</th>\n",
       "      <td>18</td>\n",
       "      <td>TV Shows</td>\n",
       "      <td>5.0</td>\n",
       "    </tr>\n",
       "    <tr>\n",
       "      <th>1</th>\n",
       "      <td>20</td>\n",
       "      <td>TV Shows</td>\n",
       "      <td>3.0</td>\n",
       "    </tr>\n",
       "    <tr>\n",
       "      <th>2</th>\n",
       "      <td>21</td>\n",
       "      <td>Social Media (YouTube, Vimeo etc.)</td>\n",
       "      <td>4.0</td>\n",
       "    </tr>\n",
       "    <tr>\n",
       "      <th>3</th>\n",
       "      <td>19</td>\n",
       "      <td>Anime</td>\n",
       "      <td>1.0</td>\n",
       "    </tr>\n",
       "    <tr>\n",
       "      <th>4</th>\n",
       "      <td>19</td>\n",
       "      <td>Social Media (YouTube, Vimeo etc.)</td>\n",
       "      <td>10.0</td>\n",
       "    </tr>\n",
       "  </tbody>\n",
       "</table>\n",
       "</div>"
      ],
      "text/plain": [
       "   Age What is your go-to source of entertainment?  \\\n",
       "0   18                                    TV Shows   \n",
       "1   20                                    TV Shows   \n",
       "2   21          Social Media (YouTube, Vimeo etc.)   \n",
       "3   19                                       Anime   \n",
       "4   19          Social Media (YouTube, Vimeo etc.)   \n",
       "\n",
       "   On average, how many hours in a day do you spend consuming media?  \n",
       "0                                                5.0                  \n",
       "1                                                3.0                  \n",
       "2                                                4.0                  \n",
       "3                                                1.0                  \n",
       "4                                               10.0                  "
      ]
     },
     "execution_count": 61,
     "metadata": {},
     "output_type": "execute_result"
    }
   ],
   "source": [
    "#delete the first column\n",
    "df.drop(df.columns[0], axis=1, inplace=True)\n",
    "df.head()"
   ]
  },
  {
   "cell_type": "code",
   "execution_count": 62,
   "metadata": {},
   "outputs": [
    {
     "data": {
      "text/html": [
       "<div>\n",
       "<style scoped>\n",
       "    .dataframe tbody tr th:only-of-type {\n",
       "        vertical-align: middle;\n",
       "    }\n",
       "\n",
       "    .dataframe tbody tr th {\n",
       "        vertical-align: top;\n",
       "    }\n",
       "\n",
       "    .dataframe thead th {\n",
       "        text-align: right;\n",
       "    }\n",
       "</style>\n",
       "<table border=\"1\" class=\"dataframe\">\n",
       "  <thead>\n",
       "    <tr style=\"text-align: right;\">\n",
       "      <th></th>\n",
       "      <th>Age</th>\n",
       "      <th>Entertainment</th>\n",
       "      <th>Hours</th>\n",
       "    </tr>\n",
       "  </thead>\n",
       "  <tbody>\n",
       "    <tr>\n",
       "      <th>0</th>\n",
       "      <td>18</td>\n",
       "      <td>TV Shows</td>\n",
       "      <td>5.0</td>\n",
       "    </tr>\n",
       "    <tr>\n",
       "      <th>1</th>\n",
       "      <td>20</td>\n",
       "      <td>TV Shows</td>\n",
       "      <td>3.0</td>\n",
       "    </tr>\n",
       "    <tr>\n",
       "      <th>2</th>\n",
       "      <td>21</td>\n",
       "      <td>Social Media (YouTube, Vimeo etc.)</td>\n",
       "      <td>4.0</td>\n",
       "    </tr>\n",
       "    <tr>\n",
       "      <th>3</th>\n",
       "      <td>19</td>\n",
       "      <td>Anime</td>\n",
       "      <td>1.0</td>\n",
       "    </tr>\n",
       "    <tr>\n",
       "      <th>4</th>\n",
       "      <td>19</td>\n",
       "      <td>Social Media (YouTube, Vimeo etc.)</td>\n",
       "      <td>10.0</td>\n",
       "    </tr>\n",
       "    <tr>\n",
       "      <th>5</th>\n",
       "      <td>20</td>\n",
       "      <td>Social Media (YouTube, Vimeo etc.)</td>\n",
       "      <td>4.0</td>\n",
       "    </tr>\n",
       "    <tr>\n",
       "      <th>6</th>\n",
       "      <td>18</td>\n",
       "      <td>Anime</td>\n",
       "      <td>4.5</td>\n",
       "    </tr>\n",
       "    <tr>\n",
       "      <th>7</th>\n",
       "      <td>21</td>\n",
       "      <td>Anime</td>\n",
       "      <td>2.0</td>\n",
       "    </tr>\n",
       "    <tr>\n",
       "      <th>8</th>\n",
       "      <td>46</td>\n",
       "      <td>Social Media (YouTube, Vimeo etc.)</td>\n",
       "      <td>2.0</td>\n",
       "    </tr>\n",
       "    <tr>\n",
       "      <th>9</th>\n",
       "      <td>19</td>\n",
       "      <td>Video Games</td>\n",
       "      <td>5.0</td>\n",
       "    </tr>\n",
       "  </tbody>\n",
       "</table>\n",
       "</div>"
      ],
      "text/plain": [
       "   Age                       Entertainment  Hours\n",
       "0   18                            TV Shows    5.0\n",
       "1   20                            TV Shows    3.0\n",
       "2   21  Social Media (YouTube, Vimeo etc.)    4.0\n",
       "3   19                               Anime    1.0\n",
       "4   19  Social Media (YouTube, Vimeo etc.)   10.0\n",
       "5   20  Social Media (YouTube, Vimeo etc.)    4.0\n",
       "6   18                               Anime    4.5\n",
       "7   21                               Anime    2.0\n",
       "8   46  Social Media (YouTube, Vimeo etc.)    2.0\n",
       "9   19                         Video Games    5.0"
      ]
     },
     "execution_count": 62,
     "metadata": {},
     "output_type": "execute_result"
    }
   ],
   "source": [
    "#rename the columns\n",
    "df.rename(columns={'What is your go-to source of entertainment?':'Entertainment', 'On average, how many hours in a day do you spend consuming media?':'Hours'}, inplace=True)\n",
    "df.head(10)\n"
   ]
  },
  {
   "cell_type": "code",
   "execution_count": 63,
   "metadata": {},
   "outputs": [
    {
     "data": {
      "text/html": [
       "<div>\n",
       "<style scoped>\n",
       "    .dataframe tbody tr th:only-of-type {\n",
       "        vertical-align: middle;\n",
       "    }\n",
       "\n",
       "    .dataframe tbody tr th {\n",
       "        vertical-align: top;\n",
       "    }\n",
       "\n",
       "    .dataframe thead th {\n",
       "        text-align: right;\n",
       "    }\n",
       "</style>\n",
       "<table border=\"1\" class=\"dataframe\">\n",
       "  <thead>\n",
       "    <tr style=\"text-align: right;\">\n",
       "      <th></th>\n",
       "      <th>Age</th>\n",
       "      <th>Hours</th>\n",
       "    </tr>\n",
       "  </thead>\n",
       "  <tbody>\n",
       "    <tr>\n",
       "      <th>count</th>\n",
       "      <td>103.000000</td>\n",
       "      <td>103.000000</td>\n",
       "    </tr>\n",
       "    <tr>\n",
       "      <th>mean</th>\n",
       "      <td>26.854369</td>\n",
       "      <td>4.066019</td>\n",
       "    </tr>\n",
       "    <tr>\n",
       "      <th>std</th>\n",
       "      <td>13.355184</td>\n",
       "      <td>2.941073</td>\n",
       "    </tr>\n",
       "    <tr>\n",
       "      <th>min</th>\n",
       "      <td>5.000000</td>\n",
       "      <td>0.800000</td>\n",
       "    </tr>\n",
       "    <tr>\n",
       "      <th>25%</th>\n",
       "      <td>19.000000</td>\n",
       "      <td>2.000000</td>\n",
       "    </tr>\n",
       "    <tr>\n",
       "      <th>50%</th>\n",
       "      <td>21.000000</td>\n",
       "      <td>3.000000</td>\n",
       "    </tr>\n",
       "    <tr>\n",
       "      <th>75%</th>\n",
       "      <td>33.000000</td>\n",
       "      <td>5.000000</td>\n",
       "    </tr>\n",
       "    <tr>\n",
       "      <th>max</th>\n",
       "      <td>73.000000</td>\n",
       "      <td>20.000000</td>\n",
       "    </tr>\n",
       "  </tbody>\n",
       "</table>\n",
       "</div>"
      ],
      "text/plain": [
       "              Age       Hours\n",
       "count  103.000000  103.000000\n",
       "mean    26.854369    4.066019\n",
       "std     13.355184    2.941073\n",
       "min      5.000000    0.800000\n",
       "25%     19.000000    2.000000\n",
       "50%     21.000000    3.000000\n",
       "75%     33.000000    5.000000\n",
       "max     73.000000   20.000000"
      ]
     },
     "execution_count": 63,
     "metadata": {},
     "output_type": "execute_result"
    }
   ],
   "source": [
    "# data statistics\n",
    "df.describe()"
   ]
  },
  {
   "cell_type": "markdown",
   "metadata": {},
   "source": [
    "### Calculating Central Tendency and Dispersion"
   ]
  },
  {
   "cell_type": "code",
   "execution_count": 64,
   "metadata": {},
   "outputs": [],
   "source": [
    "mean = df['Age'].mean()\n",
    "median = df['Age'].median()\n",
    "mode = df['Age'].mode()\n",
    "\n",
    "std = df['Age'].std()\n",
    "var = df['Age'].var()\n",
    "range = df['Age'].max() - df['Age'].min()\n",
    "cv = (std/mean) * 100\n"
   ]
  },
  {
   "cell_type": "code",
   "execution_count": 65,
   "metadata": {},
   "outputs": [
    {
     "data": {
      "text/html": [
       "<div>\n",
       "<style scoped>\n",
       "    .dataframe tbody tr th:only-of-type {\n",
       "        vertical-align: middle;\n",
       "    }\n",
       "\n",
       "    .dataframe tbody tr th {\n",
       "        vertical-align: top;\n",
       "    }\n",
       "\n",
       "    .dataframe thead th {\n",
       "        text-align: right;\n",
       "    }\n",
       "</style>\n",
       "<table border=\"1\" class=\"dataframe\">\n",
       "  <thead>\n",
       "    <tr style=\"text-align: right;\">\n",
       "      <th></th>\n",
       "      <th>Mean</th>\n",
       "      <th>Median</th>\n",
       "      <th>Mode</th>\n",
       "    </tr>\n",
       "  </thead>\n",
       "  <tbody>\n",
       "    <tr>\n",
       "      <th>0</th>\n",
       "      <td>26.854369</td>\n",
       "      <td>21.0</td>\n",
       "      <td>21</td>\n",
       "    </tr>\n",
       "  </tbody>\n",
       "</table>\n",
       "</div>"
      ],
      "text/plain": [
       "        Mean  Median  Mode\n",
       "0  26.854369    21.0    21"
      ]
     },
     "execution_count": 65,
     "metadata": {},
     "output_type": "execute_result"
    }
   ],
   "source": [
    "## Table of Central Tendency\n",
    "table_of_central_tendency = pd.DataFrame({'Mean': mean, 'Median': median, 'Mode': mode}, index=[0])\n",
    "table_of_central_tendency"
   ]
  },
  {
   "cell_type": "code",
   "execution_count": 66,
   "metadata": {},
   "outputs": [
    {
     "data": {
      "text/html": [
       "<div>\n",
       "<style scoped>\n",
       "    .dataframe tbody tr th:only-of-type {\n",
       "        vertical-align: middle;\n",
       "    }\n",
       "\n",
       "    .dataframe tbody tr th {\n",
       "        vertical-align: top;\n",
       "    }\n",
       "\n",
       "    .dataframe thead th {\n",
       "        text-align: right;\n",
       "    }\n",
       "</style>\n",
       "<table border=\"1\" class=\"dataframe\">\n",
       "  <thead>\n",
       "    <tr style=\"text-align: right;\">\n",
       "      <th></th>\n",
       "      <th>Standard Deviation</th>\n",
       "      <th>Variance</th>\n",
       "      <th>Range</th>\n",
       "      <th>Coefficient of Variation</th>\n",
       "    </tr>\n",
       "  </thead>\n",
       "  <tbody>\n",
       "    <tr>\n",
       "      <th>0</th>\n",
       "      <td>13.355184</td>\n",
       "      <td>178.360937</td>\n",
       "      <td>68</td>\n",
       "      <td>49.731885</td>\n",
       "    </tr>\n",
       "  </tbody>\n",
       "</table>\n",
       "</div>"
      ],
      "text/plain": [
       "   Standard Deviation    Variance  Range  Coefficient of Variation\n",
       "0           13.355184  178.360937     68                 49.731885"
      ]
     },
     "execution_count": 66,
     "metadata": {},
     "output_type": "execute_result"
    }
   ],
   "source": [
    "# Table of Dispersion\n",
    "table_of_dispersion = pd.DataFrame({'Standard Deviation': std, 'Variance': var, 'Range': range, 'Coefficient of Variation': cv}, index=[0])\n",
    "table_of_dispersion\n"
   ]
  },
  {
   "cell_type": "markdown",
   "metadata": {},
   "source": [
    "## Frequency Distribution Table "
   ]
  },
  {
   "cell_type": "markdown",
   "metadata": {},
   "source": [
    "### Qualitative Data"
   ]
  },
  {
   "cell_type": "code",
   "execution_count": 67,
   "metadata": {},
   "outputs": [
    {
     "name": "stdout",
     "output_type": "stream",
     "text": [
      "                                       Entertainment  Frequency  \\\n",
      "0                                           TV Shows         26   \n",
      "1                 Social Media (YouTube, Vimeo etc.)         36   \n",
      "2                                              Anime         10   \n",
      "3                                        Video Games          7   \n",
      "4  Shorts Based Content (TikTok, YouTube Shorts, ...         17   \n",
      "5                                             Movies          7   \n",
      "\n",
      "   Relative Frequency  Percentage Frequency  \n",
      "0            0.252427             25.242718  \n",
      "1            0.349515             34.951456  \n",
      "2            0.097087              9.708738  \n",
      "3            0.067961              6.796117  \n",
      "4            0.165049             16.504854  \n",
      "5            0.067961              6.796117  \n"
     ]
    }
   ],
   "source": [
    "columns= ['Entertainment', 'Frequency', 'Relative Frequency', 'Percentage Frequency']\n",
    "Frequency_distribution_table_Qualitative_Data = pd.DataFrame(columns=columns)\n",
    "Frequency_distribution_table_Qualitative_Data['Entertainment'] = df['Entertainment'].unique()\n",
    "\n",
    "#  Write A function to  find the total category of each entertainment\n",
    "def find_total_category(entertainment):\n",
    "    return df[df['Entertainment'] == entertainment]['Hours'].count()\n",
    "\n",
    "# Write A function to  find the relative frequency of each entertainment\n",
    "def find_relative_frequency(entertainment):\n",
    "    return find_total_category(entertainment) / len(df['Entertainment'])\n",
    "\n",
    "# Write A function to  find the percentage frequency of each entertainment\n",
    "def find_percentage_frequency(entertainment):\n",
    "    return find_relative_frequency(entertainment) * 100\n",
    "\n",
    "# Use apply function to find the total category, relative frequency, and percentage frequency of each entertainment\n",
    "Frequency_distribution_table_Qualitative_Data['Frequency'] = Frequency_distribution_table_Qualitative_Data['Entertainment'].apply(find_total_category)\n",
    "Frequency_distribution_table_Qualitative_Data['Relative Frequency'] = Frequency_distribution_table_Qualitative_Data['Entertainment'].apply(find_relative_frequency)\n",
    "Frequency_distribution_table_Qualitative_Data['Percentage Frequency'] = Frequency_distribution_table_Qualitative_Data['Entertainment'].apply(find_percentage_frequency)\n",
    "\n",
    "\n",
    "\n",
    "print(Frequency_distribution_table_Qualitative_Data)\n"
   ]
  },
  {
   "cell_type": "markdown",
   "metadata": {},
   "source": [
    "### Quantitative Data"
   ]
  },
  {
   "cell_type": "code",
   "execution_count": 68,
   "metadata": {},
   "outputs": [
    {
     "data": {
      "text/html": [
       "<div>\n",
       "<style scoped>\n",
       "    .dataframe tbody tr th:only-of-type {\n",
       "        vertical-align: middle;\n",
       "    }\n",
       "\n",
       "    .dataframe tbody tr th {\n",
       "        vertical-align: top;\n",
       "    }\n",
       "\n",
       "    .dataframe thead th {\n",
       "        text-align: right;\n",
       "    }\n",
       "</style>\n",
       "<table border=\"1\" class=\"dataframe\">\n",
       "  <thead>\n",
       "    <tr style=\"text-align: right;\">\n",
       "      <th></th>\n",
       "      <th>Class Limits</th>\n",
       "      <th>Class Boundaries</th>\n",
       "      <th>Frequency</th>\n",
       "      <th>Relative Frequency</th>\n",
       "      <th>Percentage Frequency</th>\n",
       "      <th>Cumulative Frequency</th>\n",
       "      <th>Midpoint</th>\n",
       "    </tr>\n",
       "  </thead>\n",
       "  <tbody>\n",
       "    <tr>\n",
       "      <th>0</th>\n",
       "      <td>5-10</td>\n",
       "      <td>4.5-10.5</td>\n",
       "      <td>3</td>\n",
       "      <td>0.029126</td>\n",
       "      <td>2.912621</td>\n",
       "      <td>3</td>\n",
       "      <td>7.5</td>\n",
       "    </tr>\n",
       "    <tr>\n",
       "      <th>1</th>\n",
       "      <td>11-16</td>\n",
       "      <td>10.5-16.5</td>\n",
       "      <td>4</td>\n",
       "      <td>0.038835</td>\n",
       "      <td>3.883495</td>\n",
       "      <td>7</td>\n",
       "      <td>13.5</td>\n",
       "    </tr>\n",
       "    <tr>\n",
       "      <th>2</th>\n",
       "      <td>17-22</td>\n",
       "      <td>16.5-22.5</td>\n",
       "      <td>54</td>\n",
       "      <td>0.524272</td>\n",
       "      <td>52.427184</td>\n",
       "      <td>61</td>\n",
       "      <td>19.5</td>\n",
       "    </tr>\n",
       "    <tr>\n",
       "      <th>3</th>\n",
       "      <td>23-28</td>\n",
       "      <td>22.5-28.5</td>\n",
       "      <td>13</td>\n",
       "      <td>0.126214</td>\n",
       "      <td>12.621359</td>\n",
       "      <td>74</td>\n",
       "      <td>25.5</td>\n",
       "    </tr>\n",
       "    <tr>\n",
       "      <th>4</th>\n",
       "      <td>29-34</td>\n",
       "      <td>28.5-34.5</td>\n",
       "      <td>5</td>\n",
       "      <td>0.048544</td>\n",
       "      <td>4.854369</td>\n",
       "      <td>79</td>\n",
       "      <td>31.5</td>\n",
       "    </tr>\n",
       "    <tr>\n",
       "      <th>5</th>\n",
       "      <td>35-40</td>\n",
       "      <td>34.5-40.5</td>\n",
       "      <td>7</td>\n",
       "      <td>0.067961</td>\n",
       "      <td>6.796117</td>\n",
       "      <td>86</td>\n",
       "      <td>37.5</td>\n",
       "    </tr>\n",
       "    <tr>\n",
       "      <th>6</th>\n",
       "      <td>41-46</td>\n",
       "      <td>40.5-46.5</td>\n",
       "      <td>8</td>\n",
       "      <td>0.077670</td>\n",
       "      <td>7.766990</td>\n",
       "      <td>94</td>\n",
       "      <td>43.5</td>\n",
       "    </tr>\n",
       "    <tr>\n",
       "      <th>7</th>\n",
       "      <td>47-52</td>\n",
       "      <td>46.5-52.5</td>\n",
       "      <td>4</td>\n",
       "      <td>0.038835</td>\n",
       "      <td>3.883495</td>\n",
       "      <td>98</td>\n",
       "      <td>49.5</td>\n",
       "    </tr>\n",
       "    <tr>\n",
       "      <th>8</th>\n",
       "      <td>53-58</td>\n",
       "      <td>52.5-58.5</td>\n",
       "      <td>1</td>\n",
       "      <td>0.009709</td>\n",
       "      <td>0.970874</td>\n",
       "      <td>99</td>\n",
       "      <td>55.5</td>\n",
       "    </tr>\n",
       "    <tr>\n",
       "      <th>9</th>\n",
       "      <td>59-64</td>\n",
       "      <td>58.5-64.5</td>\n",
       "      <td>1</td>\n",
       "      <td>0.009709</td>\n",
       "      <td>0.970874</td>\n",
       "      <td>100</td>\n",
       "      <td>61.5</td>\n",
       "    </tr>\n",
       "    <tr>\n",
       "      <th>10</th>\n",
       "      <td>65-70</td>\n",
       "      <td>64.5-70.5</td>\n",
       "      <td>2</td>\n",
       "      <td>0.019417</td>\n",
       "      <td>1.941748</td>\n",
       "      <td>102</td>\n",
       "      <td>67.5</td>\n",
       "    </tr>\n",
       "  </tbody>\n",
       "</table>\n",
       "</div>"
      ],
      "text/plain": [
       "   Class Limits Class Boundaries  Frequency  Relative Frequency  \\\n",
       "0          5-10         4.5-10.5          3            0.029126   \n",
       "1         11-16        10.5-16.5          4            0.038835   \n",
       "2         17-22        16.5-22.5         54            0.524272   \n",
       "3         23-28        22.5-28.5         13            0.126214   \n",
       "4         29-34        28.5-34.5          5            0.048544   \n",
       "5         35-40        34.5-40.5          7            0.067961   \n",
       "6         41-46        40.5-46.5          8            0.077670   \n",
       "7         47-52        46.5-52.5          4            0.038835   \n",
       "8         53-58        52.5-58.5          1            0.009709   \n",
       "9         59-64        58.5-64.5          1            0.009709   \n",
       "10        65-70        64.5-70.5          2            0.019417   \n",
       "\n",
       "    Percentage Frequency  Cumulative Frequency  Midpoint  \n",
       "0               2.912621                     3       7.5  \n",
       "1               3.883495                     7      13.5  \n",
       "2              52.427184                    61      19.5  \n",
       "3              12.621359                    74      25.5  \n",
       "4               4.854369                    79      31.5  \n",
       "5               6.796117                    86      37.5  \n",
       "6               7.766990                    94      43.5  \n",
       "7               3.883495                    98      49.5  \n",
       "8               0.970874                    99      55.5  \n",
       "9               0.970874                   100      61.5  \n",
       "10              1.941748                   102      67.5  "
      ]
     },
     "execution_count": 68,
     "metadata": {},
     "output_type": "execute_result"
    }
   ],
   "source": [
    "## Frequency Distribution Table of Quantitative Data\n",
    "columns= ['Class Limits','Class Boundaries', 'Frequency', 'Relative Frequency', 'Percentage Frequency', 'Cumulative Frequency', 'Midpoint']\n",
    "Frequency_distribution_table_Quantitative_Data = pd.DataFrame(columns=columns)\n",
    "\n",
    "lowest=  np.min(df['Age'])\n",
    "class_width = round( (np.max(df['Age']) - np.min(df['Age']))/14 )\n",
    "\n",
    "lower_class = []\n",
    "upper_class = []\n",
    "\n",
    "i = 5\n",
    "while i <= 70:\n",
    "    lower_class.append(i)\n",
    "    upper_class.append(i+class_width)\n",
    "    i=i+6\n",
    "\n",
    "lower_class_boundary = [(i-0.5) for i in lower_class ] \n",
    "upper_class_boundary = [(i+0.5) for i in upper_class ]\n",
    "\n",
    "# Class Limits\n",
    "CL = [] \n",
    "i=0\n",
    "while i < len(lower_class_boundary):\n",
    "   CL.append(str(lower_class[i]) + \"-\" + str(upper_class[i]))\n",
    "   i = i + 1\n",
    "\n",
    "# Class Boundaries\n",
    "CB = [] \n",
    "i=0\n",
    "while i < len(lower_class_boundary):\n",
    "   CB.append(str(lower_class_boundary[i]) + \"-\" + str(upper_class_boundary[i]))\n",
    "   i = i + 1\n",
    "\n",
    "# Frequency\n",
    "Frequency = []\n",
    "a=0\n",
    "while a < len(lower_class_boundary):\n",
    "    Frequency.append(df[(df['Age'] > lower_class_boundary[a]) & (df['Age'] <= upper_class_boundary[a])]['Age'].count())\n",
    "    a = a + 1\n",
    "\n",
    "# Midpoint\n",
    "b = 0\n",
    "mid_point = []\n",
    "while b < len(lower_class_boundary):\n",
    "    #calculate the mid point of ages in each class\n",
    "    mid_point.append((lower_class_boundary[b] + upper_class_boundary[b])/2)\n",
    "    b = b + 1\n",
    "\n",
    "Frequency_distribution_table_Quantitative_Data['Class Limits'] = CL\n",
    "Frequency_distribution_table_Quantitative_Data['Class Boundaries'] = CB\n",
    "Frequency_distribution_table_Quantitative_Data['Frequency'] = Frequency\n",
    "Frequency_distribution_table_Quantitative_Data['Relative Frequency'] = Frequency_distribution_table_Quantitative_Data['Frequency'] / len(df['Age'])\n",
    "Frequency_distribution_table_Quantitative_Data['Percentage Frequency'] = Frequency_distribution_table_Quantitative_Data['Relative Frequency'] * 100\n",
    "Frequency_distribution_table_Quantitative_Data['Cumulative Frequency'] = Frequency_distribution_table_Quantitative_Data['Frequency'].cumsum()\n",
    "Frequency_distribution_table_Quantitative_Data['Midpoint'] = mid_point    \n",
    "Frequency_distribution_table_Quantitative_Data\n",
    "\n",
    "\n",
    "\n"
   ]
  },
  {
   "cell_type": "code",
   "execution_count": 69,
   "metadata": {},
   "outputs": [
    {
     "data": {
      "image/png": "[encoded data removed]",
      "text/plain": [
       "<Figure size 720x360 with 1 Axes>"
      ]
     },
     "metadata": {
      "needs_background": "light"
     },
     "output_type": "display_data"
    }
   ],
   "source": [
    "# Histogram\n",
    "plt.figure(figsize=(10,5))\n",
    "plt.hist(df['Age'], bins=12, color='green')\n",
    "plt.xlabel('Age')\n",
    "plt.ylabel('Frequency')\n",
    "plt.title('Histogram of Age')\n",
    "plt.show()\n"
   ]
  },
  {
   "cell_type": "code",
   "execution_count": 70,
   "metadata": {},
   "outputs": [
    {
     "name": "stderr",
     "output_type": "stream",
     "text": [
      "c:\\Users\\Ali Zain\\AppData\\Local\\Programs\\Python\\Python310\\lib\\site-packages\\seaborn\\_decorators.py:36: FutureWarning: Pass the following variable as a keyword arg: x. From version 0.12, the only valid positional argument will be `data`, and passing other arguments without an explicit keyword will result in an error or misinterpretation.\n",
      "  warnings.warn(\n"
     ]
    },
    {
     "data": {
      "image/png": "[encoded data removed]",
      "text/plain": [
       "<Figure size 720x360 with 1 Axes>"
      ]
     },
     "metadata": {
      "needs_background": "light"
     },
     "output_type": "display_data"
    }
   ],
   "source": [
    "# Plottings on Age column using seaborn\n",
    "plt.figure(figsize=(10,5))\n",
    "sns.boxplot(df['Age'], color='green')\n",
    "plt.title('Box Plot of Age')\n",
    "plt.show()\n"
   ]
  },
  {
   "cell_type": "code",
   "execution_count": 71,
   "metadata": {},
   "outputs": [
    {
     "data": {
      "text/plain": [
       "<seaborn.axisgrid.PairGrid at 0x2b32a4d9f60>"
      ]
     },
     "execution_count": 71,
     "metadata": {},
     "output_type": "execute_result"
    },
    {
     "data": {
      "text/plain": [
       "<Figure size 720x360 with 0 Axes>"
      ]
     },
     "metadata": {},
     "output_type": "display_data"
    },
    {
     "data": {
      "image/png": "[encoded data removed]",
      "text/plain": [
       "<Figure size 207.375x180 with 2 Axes>"
      ]
     },
     "metadata": {
      "needs_background": "light"
     },
     "output_type": "display_data"
    }
   ],
   "source": [
    "# Pair Plot of Age and Hours\n",
    "plt.figure(figsize=(10,5))\n",
    "sns.pairplot(df, hue='Age', palette='Set1')\n"
   ]
  },
  {
   "cell_type": "code",
   "execution_count": 72,
   "metadata": {},
   "outputs": [
    {
     "data": {
      "image/png": "[encoded data removed]",
      "text/plain": [
       "<Figure size 735.875x360 with 6 Axes>"
      ]
     },
     "metadata": {
      "needs_background": "light"
     },
     "output_type": "display_data"
    }
   ],
   "source": [
    "# Pair Plot\n",
    "sns.pairplot(df, hue='Entertainment', palette='Set1')\n",
    "plt.show()\n"
   ]
  },
  {
   "cell_type": "code",
   "execution_count": 73,
   "metadata": {},
   "outputs": [
    {
     "data": {
      "image/png": "[encoded data removed]",
      "text/plain": [
       "<Figure size 720x720 with 1 Axes>"
      ]
     },
     "metadata": {},
     "output_type": "display_data"
    }
   ],
   "source": [
    "# Create a pie chart for the value counts with White background\n",
    "plt.figure(figsize=(10, 10))\n",
    "plt.pie(df['Entertainment'].value_counts(), labels=df['Entertainment'].value_counts().index, autopct='%1.1f%%', startangle=90)\n",
    "plt.title('Entertainment')\n",
    "plt.show()\n",
    "\n"
   ]
  },
  {
   "cell_type": "code",
   "execution_count": 74,
   "metadata": {},
   "outputs": [
    {
     "data": {
      "image/png": "[encoded data removed]",
      "text/plain": [
       "<Figure size 1800x432 with 1 Axes>"
      ]
     },
     "metadata": {
      "needs_background": "light"
     },
     "output_type": "display_data"
    }
   ],
   "source": [
    "# Create a bar chart for the value counts\n",
    "df['Entertainment'].value_counts().plot(kind='bar', figsize=(25, 6), rot=0)\n",
    "df['Entertainment'].value_counts().plot(kind='line', figsize=(25, 6), rot=0, color=\"red\", marker=\".\")\n",
    "plt.title('Entertainment')\n",
    "plt.xlabel('Entertainment')\n",
    "plt.ylabel('Count')\n",
    "plt.show()\n"
   ]
  },
  {
   "cell_type": "code",
   "execution_count": 75,
   "metadata": {},
   "outputs": [
    {
     "data": {
      "image/png": "[encoded data removed]",
      "text/plain": [
       "<Figure size 2160x432 with 1 Axes>"
      ]
     },
     "metadata": {
      "needs_background": "light"
     },
     "output_type": "display_data"
    }
   ],
   "source": [
    "#Create a boxplot for Entertainment\n",
    "df.boxplot(column='Hours', by='Entertainment', figsize=(30, 6))\n",
    "plt.title('Hours by Entertainment')\n",
    "plt.xlabel('Entertainment')\n",
    "plt.ylabel('Hours')\n",
    "plt.show()\n"
   ]
  }
 ],
 "metadata": {
  "kernelspec": {
   "display_name": "Python 3 (ipykernel)",
   "language": "python",
   "name": "python3"
  },
  "language_info": {
   "codemirror_mode": {
    "name": "ipython",
    "version": 3
   },
   "file_extension": ".py",
   "mimetype": "text/x-python",
   "name": "python",
   "nbconvert_exporter": "python",
   "pygments_lexer": "ipython3",
   "version": "3.10.5"
  },
  "vscode": {
   "interpreter": {
    "hash": "0df38451bb097d17e60967b9a23710763ae6ec22ddce554ba448691c623aba57"
   }
  }
 },
 "nbformat": 4,
 "nbformat_minor": 2
}
