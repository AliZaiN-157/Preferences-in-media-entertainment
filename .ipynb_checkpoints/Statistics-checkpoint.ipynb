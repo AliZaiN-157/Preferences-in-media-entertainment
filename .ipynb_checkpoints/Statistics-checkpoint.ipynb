{
 "cells": [
  {
   "cell_type": "code",
   "execution_count": 1,
   "metadata": {},
   "outputs": [],
   "source": [
    "import pandas as pd\n",
    "import numpy as np\n",
    "import matplotlib.pyplot as plt\n",
    "import seaborn as sns\n",
    "%matplotlib inline"
   ]
  },
  {
   "cell_type": "code",
   "execution_count": 2,
   "metadata": {},
   "outputs": [
    {
     "data": {
      "text/html": [
       "<div>\n",
       "<style scoped>\n",
       "    .dataframe tbody tr th:only-of-type {\n",
       "        vertical-align: middle;\n",
       "    }\n",
       "\n",
       "    .dataframe tbody tr th {\n",
       "        vertical-align: top;\n",
       "    }\n",
       "\n",
       "    .dataframe thead th {\n",
       "        text-align: right;\n",
       "    }\n",
       "</style>\n",
       "<table border=\"1\" class=\"dataframe\">\n",
       "  <thead>\n",
       "    <tr style=\"text-align: right;\">\n",
       "      <th></th>\n",
       "      <th>Timestamp</th>\n",
       "      <th>Age</th>\n",
       "      <th>What is your go-to source of entertainment?</th>\n",
       "      <th>On average, how many hours in a day do you spend consuming media?</th>\n",
       "    </tr>\n",
       "  </thead>\n",
       "  <tbody>\n",
       "    <tr>\n",
       "      <th>0</th>\n",
       "      <td>2/8/2023 10:04:47</td>\n",
       "      <td>18</td>\n",
       "      <td>TV Shows</td>\n",
       "      <td>5.0</td>\n",
       "    </tr>\n",
       "    <tr>\n",
       "      <th>1</th>\n",
       "      <td>2/8/2023 10:46:24</td>\n",
       "      <td>20</td>\n",
       "      <td>TV Shows</td>\n",
       "      <td>3.0</td>\n",
       "    </tr>\n",
       "    <tr>\n",
       "      <th>2</th>\n",
       "      <td>2/8/2023 10:53:23</td>\n",
       "      <td>21</td>\n",
       "      <td>Social Media (YouTube, Vimeo etc.)</td>\n",
       "      <td>4.0</td>\n",
       "    </tr>\n",
       "    <tr>\n",
       "      <th>3</th>\n",
       "      <td>2/8/2023 10:54:18</td>\n",
       "      <td>19</td>\n",
       "      <td>Anime</td>\n",
       "      <td>1.0</td>\n",
       "    </tr>\n",
       "    <tr>\n",
       "      <th>4</th>\n",
       "      <td>2/8/2023 11:04:42</td>\n",
       "      <td>19</td>\n",
       "      <td>Social Media (YouTube, Vimeo etc.)</td>\n",
       "      <td>10.0</td>\n",
       "    </tr>\n",
       "  </tbody>\n",
       "</table>\n",
       "</div>"
      ],
      "text/plain": [
       "           Timestamp  Age What is your go-to source of entertainment?  \\\n",
       "0  2/8/2023 10:04:47   18                                    TV Shows   \n",
       "1  2/8/2023 10:46:24   20                                    TV Shows   \n",
       "2  2/8/2023 10:53:23   21          Social Media (YouTube, Vimeo etc.)   \n",
       "3  2/8/2023 10:54:18   19                                       Anime   \n",
       "4  2/8/2023 11:04:42   19          Social Media (YouTube, Vimeo etc.)   \n",
       "\n",
       "   On average, how many hours in a day do you spend consuming media?  \n",
       "0                                                5.0                  \n",
       "1                                                3.0                  \n",
       "2                                                4.0                  \n",
       "3                                                1.0                  \n",
       "4                                               10.0                  "
      ]
     },
     "execution_count": 2,
     "metadata": {},
     "output_type": "execute_result"
    }
   ],
   "source": [
    "#read csv data\n",
    "df = pd.read_csv(\"A1-data.csv\")\n",
    "df.head()"
   ]
  },
  {
   "cell_type": "code",
   "execution_count": 3,
   "metadata": {},
   "outputs": [
    {
     "data": {
      "text/html": [
       "<div>\n",
       "<style scoped>\n",
       "    .dataframe tbody tr th:only-of-type {\n",
       "        vertical-align: middle;\n",
       "    }\n",
       "\n",
       "    .dataframe tbody tr th {\n",
       "        vertical-align: top;\n",
       "    }\n",
       "\n",
       "    .dataframe thead th {\n",
       "        text-align: right;\n",
       "    }\n",
       "</style>\n",
       "<table border=\"1\" class=\"dataframe\">\n",
       "  <thead>\n",
       "    <tr style=\"text-align: right;\">\n",
       "      <th></th>\n",
       "      <th>Age</th>\n",
       "      <th>What is your go-to source of entertainment?</th>\n",
       "      <th>On average, how many hours in a day do you spend consuming media?</th>\n",
       "    </tr>\n",
       "  </thead>\n",
       "  <tbody>\n",
       "    <tr>\n",
       "      <th>0</th>\n",
       "      <td>18</td>\n",
       "      <td>TV Shows</td>\n",
       "      <td>5.0</td>\n",
       "    </tr>\n",
       "    <tr>\n",
       "      <th>1</th>\n",
       "      <td>20</td>\n",
       "      <td>TV Shows</td>\n",
       "      <td>3.0</td>\n",
       "    </tr>\n",
       "    <tr>\n",
       "      <th>2</th>\n",
       "      <td>21</td>\n",
       "      <td>Social Media (YouTube, Vimeo etc.)</td>\n",
       "      <td>4.0</td>\n",
       "    </tr>\n",
       "    <tr>\n",
       "      <th>3</th>\n",
       "      <td>19</td>\n",
       "      <td>Anime</td>\n",
       "      <td>1.0</td>\n",
       "    </tr>\n",
       "    <tr>\n",
       "      <th>4</th>\n",
       "      <td>19</td>\n",
       "      <td>Social Media (YouTube, Vimeo etc.)</td>\n",
       "      <td>10.0</td>\n",
       "    </tr>\n",
       "  </tbody>\n",
       "</table>\n",
       "</div>"
      ],
      "text/plain": [
       "   Age What is your go-to source of entertainment?  \\\n",
       "0   18                                    TV Shows   \n",
       "1   20                                    TV Shows   \n",
       "2   21          Social Media (YouTube, Vimeo etc.)   \n",
       "3   19                                       Anime   \n",
       "4   19          Social Media (YouTube, Vimeo etc.)   \n",
       "\n",
       "   On average, how many hours in a day do you spend consuming media?  \n",
       "0                                                5.0                  \n",
       "1                                                3.0                  \n",
       "2                                                4.0                  \n",
       "3                                                1.0                  \n",
       "4                                               10.0                  "
      ]
     },
     "execution_count": 3,
     "metadata": {},
     "output_type": "execute_result"
    }
   ],
   "source": [
    "#delete the first column\n",
    "df.drop(df.columns[0], axis=1, inplace=True)\n",
    "df.head()"
   ]
  },
  {
   "cell_type": "code",
   "execution_count": 4,
   "metadata": {},
   "outputs": [
    {
     "data": {
      "text/html": [
       "<div>\n",
       "<style scoped>\n",
       "    .dataframe tbody tr th:only-of-type {\n",
       "        vertical-align: middle;\n",
       "    }\n",
       "\n",
       "    .dataframe tbody tr th {\n",
       "        vertical-align: top;\n",
       "    }\n",
       "\n",
       "    .dataframe thead th {\n",
       "        text-align: right;\n",
       "    }\n",
       "</style>\n",
       "<table border=\"1\" class=\"dataframe\">\n",
       "  <thead>\n",
       "    <tr style=\"text-align: right;\">\n",
       "      <th></th>\n",
       "      <th>Age</th>\n",
       "      <th>Entertainment</th>\n",
       "      <th>Hours</th>\n",
       "    </tr>\n",
       "  </thead>\n",
       "  <tbody>\n",
       "    <tr>\n",
       "      <th>0</th>\n",
       "      <td>18</td>\n",
       "      <td>TV Shows</td>\n",
       "      <td>5.0</td>\n",
       "    </tr>\n",
       "    <tr>\n",
       "      <th>1</th>\n",
       "      <td>20</td>\n",
       "      <td>TV Shows</td>\n",
       "      <td>3.0</td>\n",
       "    </tr>\n",
       "    <tr>\n",
       "      <th>2</th>\n",
       "      <td>21</td>\n",
       "      <td>Social Media (YouTube, Vimeo etc.)</td>\n",
       "      <td>4.0</td>\n",
       "    </tr>\n",
       "    <tr>\n",
       "      <th>3</th>\n",
       "      <td>19</td>\n",
       "      <td>Anime</td>\n",
       "      <td>1.0</td>\n",
       "    </tr>\n",
       "    <tr>\n",
       "      <th>4</th>\n",
       "      <td>19</td>\n",
       "      <td>Social Media (YouTube, Vimeo etc.)</td>\n",
       "      <td>10.0</td>\n",
       "    </tr>\n",
       "    <tr>\n",
       "      <th>5</th>\n",
       "      <td>20</td>\n",
       "      <td>Social Media (YouTube, Vimeo etc.)</td>\n",
       "      <td>4.0</td>\n",
       "    </tr>\n",
       "    <tr>\n",
       "      <th>6</th>\n",
       "      <td>18</td>\n",
       "      <td>Anime</td>\n",
       "      <td>4.5</td>\n",
       "    </tr>\n",
       "    <tr>\n",
       "      <th>7</th>\n",
       "      <td>21</td>\n",
       "      <td>Anime</td>\n",
       "      <td>2.0</td>\n",
       "    </tr>\n",
       "    <tr>\n",
       "      <th>8</th>\n",
       "      <td>46</td>\n",
       "      <td>Social Media (YouTube, Vimeo etc.)</td>\n",
       "      <td>2.0</td>\n",
       "    </tr>\n",
       "    <tr>\n",
       "      <th>9</th>\n",
       "      <td>19</td>\n",
       "      <td>Video Games</td>\n",
       "      <td>5.0</td>\n",
       "    </tr>\n",
       "  </tbody>\n",
       "</table>\n",
       "</div>"
      ],
      "text/plain": [
       "   Age                       Entertainment  Hours\n",
       "0   18                            TV Shows    5.0\n",
       "1   20                            TV Shows    3.0\n",
       "2   21  Social Media (YouTube, Vimeo etc.)    4.0\n",
       "3   19                               Anime    1.0\n",
       "4   19  Social Media (YouTube, Vimeo etc.)   10.0\n",
       "5   20  Social Media (YouTube, Vimeo etc.)    4.0\n",
       "6   18                               Anime    4.5\n",
       "7   21                               Anime    2.0\n",
       "8   46  Social Media (YouTube, Vimeo etc.)    2.0\n",
       "9   19                         Video Games    5.0"
      ]
     },
     "execution_count": 4,
     "metadata": {},
     "output_type": "execute_result"
    }
   ],
   "source": [
    "#rename the columns\n",
    "df.rename(columns={'What is your go-to source of entertainment?':'Entertainment', 'On average, how many hours in a day do you spend consuming media?':'Hours'}, inplace=True)\n",
    "df.head(10)\n"
   ]
  },
  {
   "cell_type": "code",
   "execution_count": 5,
   "metadata": {},
   "outputs": [
    {
     "data": {
      "text/html": [
       "<div>\n",
       "<style scoped>\n",
       "    .dataframe tbody tr th:only-of-type {\n",
       "        vertical-align: middle;\n",
       "    }\n",
       "\n",
       "    .dataframe tbody tr th {\n",
       "        vertical-align: top;\n",
       "    }\n",
       "\n",
       "    .dataframe thead th {\n",
       "        text-align: right;\n",
       "    }\n",
       "</style>\n",
       "<table border=\"1\" class=\"dataframe\">\n",
       "  <thead>\n",
       "    <tr style=\"text-align: right;\">\n",
       "      <th></th>\n",
       "      <th>Age</th>\n",
       "      <th>Hours</th>\n",
       "    </tr>\n",
       "  </thead>\n",
       "  <tbody>\n",
       "    <tr>\n",
       "      <th>count</th>\n",
       "      <td>98.000000</td>\n",
       "      <td>98.000000</td>\n",
       "    </tr>\n",
       "    <tr>\n",
       "      <th>mean</th>\n",
       "      <td>27.071429</td>\n",
       "      <td>3.865306</td>\n",
       "    </tr>\n",
       "    <tr>\n",
       "      <th>std</th>\n",
       "      <td>13.655745</td>\n",
       "      <td>2.526074</td>\n",
       "    </tr>\n",
       "    <tr>\n",
       "      <th>min</th>\n",
       "      <td>5.000000</td>\n",
       "      <td>0.800000</td>\n",
       "    </tr>\n",
       "    <tr>\n",
       "      <th>25%</th>\n",
       "      <td>19.000000</td>\n",
       "      <td>2.000000</td>\n",
       "    </tr>\n",
       "    <tr>\n",
       "      <th>50%</th>\n",
       "      <td>21.000000</td>\n",
       "      <td>3.000000</td>\n",
       "    </tr>\n",
       "    <tr>\n",
       "      <th>75%</th>\n",
       "      <td>33.750000</td>\n",
       "      <td>5.000000</td>\n",
       "    </tr>\n",
       "    <tr>\n",
       "      <th>max</th>\n",
       "      <td>73.000000</td>\n",
       "      <td>13.000000</td>\n",
       "    </tr>\n",
       "  </tbody>\n",
       "</table>\n",
       "</div>"
      ],
      "text/plain": [
       "             Age      Hours\n",
       "count  98.000000  98.000000\n",
       "mean   27.071429   3.865306\n",
       "std    13.655745   2.526074\n",
       "min     5.000000   0.800000\n",
       "25%    19.000000   2.000000\n",
       "50%    21.000000   3.000000\n",
       "75%    33.750000   5.000000\n",
       "max    73.000000  13.000000"
      ]
     },
     "execution_count": 5,
     "metadata": {},
     "output_type": "execute_result"
    }
   ],
   "source": [
    "# data statistics\n",
    "df.describe()"
   ]
  },
  {
   "cell_type": "markdown",
   "metadata": {},
   "source": [
    "### Calculating Central Tendency and Dispersion"
   ]
  },
  {
   "cell_type": "code",
   "execution_count": 6,
   "metadata": {},
   "outputs": [],
   "source": [
    "mean = df['Hours'].mean()\n",
    "median = df['Hours'].median()\n",
    "mode = df['Hours'].mode()\n",
    "\n",
    "std = df['Hours'].std()\n",
    "var = df['Hours'].var()\n",
    "range = df['Hours'].max() - df['Hours'].min()\n",
    "cv = (std/mean) * 100\n"
   ]
  },
  {
   "cell_type": "code",
   "execution_count": 7,
   "metadata": {},
   "outputs": [
    {
     "data": {
      "text/html": [
       "<div>\n",
       "<style scoped>\n",
       "    .dataframe tbody tr th:only-of-type {\n",
       "        vertical-align: middle;\n",
       "    }\n",
       "\n",
       "    .dataframe tbody tr th {\n",
       "        vertical-align: top;\n",
       "    }\n",
       "\n",
       "    .dataframe thead th {\n",
       "        text-align: right;\n",
       "    }\n",
       "</style>\n",
       "<table border=\"1\" class=\"dataframe\">\n",
       "  <thead>\n",
       "    <tr style=\"text-align: right;\">\n",
       "      <th></th>\n",
       "      <th>Mean</th>\n",
       "      <th>Median</th>\n",
       "      <th>Mode</th>\n",
       "    </tr>\n",
       "  </thead>\n",
       "  <tbody>\n",
       "    <tr>\n",
       "      <th>0</th>\n",
       "      <td>3.865306</td>\n",
       "      <td>3.0</td>\n",
       "      <td>2.0</td>\n",
       "    </tr>\n",
       "  </tbody>\n",
       "</table>\n",
       "</div>"
      ],
      "text/plain": [
       "       Mean  Median  Mode\n",
       "0  3.865306     3.0   2.0"
      ]
     },
     "execution_count": 7,
     "metadata": {},
     "output_type": "execute_result"
    }
   ],
   "source": [
    "## Table of Central Tendency\n",
    "table_of_central_tendency = pd.DataFrame({'Mean': mean, 'Median': median, 'Mode': mode}, index=[0])\n",
    "table_of_central_tendency"
   ]
  },
  {
   "cell_type": "code",
   "execution_count": 8,
   "metadata": {},
   "outputs": [
    {
     "data": {
      "text/html": [
       "<div>\n",
       "<style scoped>\n",
       "    .dataframe tbody tr th:only-of-type {\n",
       "        vertical-align: middle;\n",
       "    }\n",
       "\n",
       "    .dataframe tbody tr th {\n",
       "        vertical-align: top;\n",
       "    }\n",
       "\n",
       "    .dataframe thead th {\n",
       "        text-align: right;\n",
       "    }\n",
       "</style>\n",
       "<table border=\"1\" class=\"dataframe\">\n",
       "  <thead>\n",
       "    <tr style=\"text-align: right;\">\n",
       "      <th></th>\n",
       "      <th>Standard Deviation</th>\n",
       "      <th>Variance</th>\n",
       "      <th>Range</th>\n",
       "      <th>Coefficient of Variation</th>\n",
       "    </tr>\n",
       "  </thead>\n",
       "  <tbody>\n",
       "    <tr>\n",
       "      <th>0</th>\n",
       "      <td>2.526074</td>\n",
       "      <td>6.381052</td>\n",
       "      <td>12.2</td>\n",
       "      <td>65.352506</td>\n",
       "    </tr>\n",
       "  </tbody>\n",
       "</table>\n",
       "</div>"
      ],
      "text/plain": [
       "   Standard Deviation  Variance  Range  Coefficient of Variation\n",
       "0            2.526074  6.381052   12.2                 65.352506"
      ]
     },
     "execution_count": 8,
     "metadata": {},
     "output_type": "execute_result"
    }
   ],
   "source": [
    "# Table of Dispersion\n",
    "table_of_dispersion = pd.DataFrame({'Standard Deviation': std, 'Variance': var, 'Range': range, 'Coefficient of Variation': cv}, index=[0])\n",
    "table_of_dispersion\n"
   ]
  },
  {
   "cell_type": "markdown",
   "metadata": {},
   "source": [
    "## Frequency Distribution Table "
   ]
  },
  {
   "cell_type": "markdown",
   "metadata": {},
   "source": [
    "### Qualitative Data"
   ]
  },
  {
   "cell_type": "code",
   "execution_count": 9,
   "metadata": {},
   "outputs": [
    {
     "name": "stdout",
     "output_type": "stream",
     "text": [
      "                                       Entertainment  Frequency  \\\n",
      "0                                           TV Shows         24   \n",
      "1                 Social Media (YouTube, Vimeo etc.)         34   \n",
      "2                                              Anime          9   \n",
      "3                                        Video Games          7   \n",
      "4  Shorts Based Content (TikTok, YouTube Shorts, ...         17   \n",
      "5                                             Movies          7   \n",
      "\n",
      "   Relative Frequency  Percentage Frequency  \n",
      "0            0.244898             24.489796  \n",
      "1            0.346939             34.693878  \n",
      "2            0.091837              9.183673  \n",
      "3            0.071429              7.142857  \n",
      "4            0.173469             17.346939  \n",
      "5            0.071429              7.142857  \n"
     ]
    }
   ],
   "source": [
    "columns= ['Entertainment', 'Frequency', 'Relative Frequency', 'Percentage Frequency']\n",
    "Frequency_distribution_table_Qualitative_Data = pd.DataFrame(columns=columns)\n",
    "Frequency_distribution_table_Qualitative_Data['Entertainment'] = df['Entertainment'].unique()\n",
    "\n",
    "#  Write A function to  find the total category of each entertainment\n",
    "def find_total_category(entertainment):\n",
    "    return df[df['Entertainment'] == entertainment]['Hours'].count()\n",
    "\n",
    "# Write A function to  find the relative frequency of each entertainment\n",
    "def find_relative_frequency(entertainment):\n",
    "    return find_total_category(entertainment) / len(df['Entertainment'])\n",
    "\n",
    "# Write A function to  find the percentage frequency of each entertainment\n",
    "def find_percentage_frequency(entertainment):\n",
    "    return find_relative_frequency(entertainment) * 100\n",
    "\n",
    "# Use apply function to find the total category, relative frequency, and percentage frequency of each entertainment\n",
    "Frequency_distribution_table_Qualitative_Data['Frequency'] = Frequency_distribution_table_Qualitative_Data['Entertainment'].apply(find_total_category)\n",
    "Frequency_distribution_table_Qualitative_Data['Relative Frequency'] = Frequency_distribution_table_Qualitative_Data['Entertainment'].apply(find_relative_frequency)\n",
    "Frequency_distribution_table_Qualitative_Data['Percentage Frequency'] = Frequency_distribution_table_Qualitative_Data['Entertainment'].apply(find_percentage_frequency)\n",
    "\n",
    "\n",
    "\n",
    "print(Frequency_distribution_table_Qualitative_Data)\n"
   ]
  },
  {
   "cell_type": "markdown",
   "metadata": {},
   "source": [
    "### Quantitative Data"
   ]
  },
  {
   "cell_type": "code",
   "execution_count": 65,
   "metadata": {},
   "outputs": [
    {
     "data": {
      "text/html": [
       "<div>\n",
       "<style scoped>\n",
       "    .dataframe tbody tr th:only-of-type {\n",
       "        vertical-align: middle;\n",
       "    }\n",
       "\n",
       "    .dataframe tbody tr th {\n",
       "        vertical-align: top;\n",
       "    }\n",
       "\n",
       "    .dataframe thead th {\n",
       "        text-align: right;\n",
       "    }\n",
       "</style>\n",
       "<table border=\"1\" class=\"dataframe\">\n",
       "  <thead>\n",
       "    <tr style=\"text-align: right;\">\n",
       "      <th></th>\n",
       "      <th>Class Limits</th>\n",
       "      <th>Frequency</th>\n",
       "      <th>Relative Frequency</th>\n",
       "      <th>Percentage Frequency</th>\n",
       "      <th>Cumulative Frequency</th>\n",
       "      <th>Midpoint</th>\n",
       "    </tr>\n",
       "  </thead>\n",
       "  <tbody>\n",
       "    <tr>\n",
       "      <th>0</th>\n",
       "      <td>4.5-10.5</td>\n",
       "      <td>3</td>\n",
       "      <td>0.030612</td>\n",
       "      <td>3.061224</td>\n",
       "      <td>3</td>\n",
       "      <td>7.5</td>\n",
       "    </tr>\n",
       "    <tr>\n",
       "      <th>1</th>\n",
       "      <td>10.5-16.5</td>\n",
       "      <td>4</td>\n",
       "      <td>0.040816</td>\n",
       "      <td>4.081633</td>\n",
       "      <td>7</td>\n",
       "      <td>13.5</td>\n",
       "    </tr>\n",
       "    <tr>\n",
       "      <th>2</th>\n",
       "      <td>16.5-22.5</td>\n",
       "      <td>51</td>\n",
       "      <td>0.520408</td>\n",
       "      <td>52.040816</td>\n",
       "      <td>58</td>\n",
       "      <td>19.5</td>\n",
       "    </tr>\n",
       "    <tr>\n",
       "      <th>3</th>\n",
       "      <td>22.5-28.5</td>\n",
       "      <td>11</td>\n",
       "      <td>0.112245</td>\n",
       "      <td>11.224490</td>\n",
       "      <td>69</td>\n",
       "      <td>25.5</td>\n",
       "    </tr>\n",
       "    <tr>\n",
       "      <th>4</th>\n",
       "      <td>28.5-34.5</td>\n",
       "      <td>5</td>\n",
       "      <td>0.051020</td>\n",
       "      <td>5.102041</td>\n",
       "      <td>74</td>\n",
       "      <td>31.5</td>\n",
       "    </tr>\n",
       "    <tr>\n",
       "      <th>5</th>\n",
       "      <td>34.5-40.5</td>\n",
       "      <td>7</td>\n",
       "      <td>0.071429</td>\n",
       "      <td>7.142857</td>\n",
       "      <td>81</td>\n",
       "      <td>37.5</td>\n",
       "    </tr>\n",
       "    <tr>\n",
       "      <th>6</th>\n",
       "      <td>40.5-46.5</td>\n",
       "      <td>8</td>\n",
       "      <td>0.081633</td>\n",
       "      <td>8.163265</td>\n",
       "      <td>89</td>\n",
       "      <td>43.5</td>\n",
       "    </tr>\n",
       "    <tr>\n",
       "      <th>7</th>\n",
       "      <td>46.5-52.5</td>\n",
       "      <td>4</td>\n",
       "      <td>0.040816</td>\n",
       "      <td>4.081633</td>\n",
       "      <td>93</td>\n",
       "      <td>49.5</td>\n",
       "    </tr>\n",
       "    <tr>\n",
       "      <th>8</th>\n",
       "      <td>52.5-58.5</td>\n",
       "      <td>1</td>\n",
       "      <td>0.010204</td>\n",
       "      <td>1.020408</td>\n",
       "      <td>94</td>\n",
       "      <td>55.5</td>\n",
       "    </tr>\n",
       "    <tr>\n",
       "      <th>9</th>\n",
       "      <td>58.5-64.5</td>\n",
       "      <td>1</td>\n",
       "      <td>0.010204</td>\n",
       "      <td>1.020408</td>\n",
       "      <td>95</td>\n",
       "      <td>61.5</td>\n",
       "    </tr>\n",
       "    <tr>\n",
       "      <th>10</th>\n",
       "      <td>64.5-70.5</td>\n",
       "      <td>2</td>\n",
       "      <td>0.020408</td>\n",
       "      <td>2.040816</td>\n",
       "      <td>97</td>\n",
       "      <td>67.5</td>\n",
       "    </tr>\n",
       "  </tbody>\n",
       "</table>\n",
       "</div>"
      ],
      "text/plain": [
       "   Class Limits  Frequency  Relative Frequency  Percentage Frequency  \\\n",
       "0      4.5-10.5          3            0.030612              3.061224   \n",
       "1     10.5-16.5          4            0.040816              4.081633   \n",
       "2     16.5-22.5         51            0.520408             52.040816   \n",
       "3     22.5-28.5         11            0.112245             11.224490   \n",
       "4     28.5-34.5          5            0.051020              5.102041   \n",
       "5     34.5-40.5          7            0.071429              7.142857   \n",
       "6     40.5-46.5          8            0.081633              8.163265   \n",
       "7     46.5-52.5          4            0.040816              4.081633   \n",
       "8     52.5-58.5          1            0.010204              1.020408   \n",
       "9     58.5-64.5          1            0.010204              1.020408   \n",
       "10    64.5-70.5          2            0.020408              2.040816   \n",
       "\n",
       "    Cumulative Frequency  Midpoint  \n",
       "0                      3       7.5  \n",
       "1                      7      13.5  \n",
       "2                     58      19.5  \n",
       "3                     69      25.5  \n",
       "4                     74      31.5  \n",
       "5                     81      37.5  \n",
       "6                     89      43.5  \n",
       "7                     93      49.5  \n",
       "8                     94      55.5  \n",
       "9                     95      61.5  \n",
       "10                    97      67.5  "
      ]
     },
     "execution_count": 65,
     "metadata": {},
     "output_type": "execute_result"
    }
   ],
   "source": [
    "## Frequency Distribution Table of Quantitative Data\n",
    "columns= ['Class limits','Class boundaries', 'Frequency', 'Relative Frequency', 'Percentage Frequency', 'Cumulative Frequency', 'Midpoint']\n",
    "Frequency_distribution_table_Quantitative_Data = pd.DataFrame(columns=columns)\n",
    "\n",
    "# class Limits of Age column in dataset\n",
    "df['Hours'].value_counts()\n",
    "\n",
    "\n",
    "lowest=  np.min(df['Age'])\n",
    "class_width =round( (np.max(df['Age']) - np.min(df['Age']))/14 )\n",
    "\n",
    "lower_class = []\n",
    "upper_class = []\n",
    "\n",
    "i = 5\n",
    "while i <= 70:\n",
    "    lower_class.append(i)\n",
    "    upper_class.append(i+class_width)\n",
    "    i=i+6\n",
    "\n",
    "lower_class_boundary = [(i-0.5) for i in lower_class ] \n",
    "upper_class_boundary = [(i+0.5) for i in upper_class ]\n",
    "\n",
    "# Class Limits\n",
    "CL = [] \n",
    "i=0\n",
    "while i < len(lower_class_boundary):\n",
    "   CL.append(str(lower_class[i]) + \"-\" + str(upper_class[i]))\n",
    "   i = i + 1\n",
    "\n",
    "# Class Boundaries\n",
    "CB = [] \n",
    "i=0\n",
    "while i < len(lower_class_boundary):\n",
    "   CB.append(str(lower_class_boundary[i]) + \"-\" + str(upper_class_boundary[i]))\n",
    "   i = i + 1\n",
    "\n",
    "# Frequency\n",
    "Frequency = []\n",
    "a=0\n",
    "while a < len(lower_class_boundary):\n",
    "    Frequency.append(df[(df['Age'] > lower_class_boundary[a]) & (df['Age'] <= upper_class_boundary[a])]['Age'].count())\n",
    "    a = a + 1\n",
    "\n",
    "# Midpoint\n",
    "b = 0\n",
    "mid_point = []\n",
    "while b < len(lower_class_boundary):\n",
    "    #calculate the mid point of ages in each class\n",
    "    mid_point.append((lower_class_boundary[b] + upper_class_boundary[b])/2)\n",
    "    b = b + 1\n",
    "\n",
    "Frequency_distribution_table_Quantitative_Data['Class Limits'] = CL\n",
    "Frequency_distribution_table_Quantitative_Data['Class Boundaries'] = CB\n",
    "Frequency_distribution_table_Quantitative_Data['Frequency'] = Frequency\n",
    "Frequency_distribution_table_Quantitative_Data['Relative Frequency'] = Frequency_distribution_table_Quantitative_Data['Frequency'] / len(df['Age'])\n",
    "Frequency_distribution_table_Quantitative_Data['Percentage Frequency'] = Frequency_distribution_table_Quantitative_Data['Relative Frequency'] * 100\n",
    "Frequency_distribution_table_Quantitative_Data['Cumulative Frequency'] = Frequency_distribution_table_Quantitative_Data['Frequency'].cumsum()\n",
    "Frequency_distribution_table_Quantitative_Data['Midpoint'] = mid_point    \n",
    "Frequency_distribution_table_Quantitative_Data\n",
    "\n",
    "\n",
    "\n"
   ]
  },
  {
   "cell_type": "code",
   "execution_count": 11,
   "metadata": {},
   "outputs": [
    {
     "data": {
      "image/png": "[encoded data removed]",
      "text/plain": [
       "<Figure size 720x720 with 1 Axes>"
      ]
     },
     "metadata": {},
     "output_type": "display_data"
    }
   ],
   "source": [
    "# Create a pie chart for the value counts with White background\n",
    "plt.figure(figsize=(10, 10))\n",
    "plt.pie(df['Entertainment'].value_counts(), labels=df['Entertainment'].value_counts().index, autopct='%1.1f%%', startangle=90)\n",
    "plt.title('Entertainment')\n",
    "plt.show()\n",
    "\n"
   ]
  },
  {
   "cell_type": "code",
   "execution_count": 12,
   "metadata": {},
   "outputs": [
    {
     "data": {
      "image/png": "[encoded data removed]",
      "text/plain": [
       "<Figure size 1800x432 with 1 Axes>"
      ]
     },
     "metadata": {
      "needs_background": "light"
     },
     "output_type": "display_data"
    }
   ],
   "source": [
    "# Create a bar chart for the value counts\n",
    "df['Entertainment'].value_counts().plot(kind='bar', figsize=(25, 6), rot=0)\n",
    "df['Entertainment'].value_counts().plot(kind='line', figsize=(25, 6), rot=0, color=\"red\", marker=\".\")\n",
    "plt.title('Entertainment')\n",
    "plt.xlabel('Entertainment')\n",
    "plt.ylabel('Count')\n",
    "plt.show()\n"
   ]
  },
  {
   "cell_type": "code",
   "execution_count": 13,
   "metadata": {},
   "outputs": [
    {
     "data": {
      "image/png": "[encoded data removed]",
      "text/plain": [
       "<Figure size 2160x432 with 1 Axes>"
      ]
     },
     "metadata": {
      "needs_background": "light"
     },
     "output_type": "display_data"
    }
   ],
   "source": [
    "#Create a boxplot for Entertainment\n",
    "df.boxplot(column='Hours', by='Entertainment', figsize=(30, 6))\n",
    "plt.title('Hours by Entertainment')\n",
    "plt.xlabel('Entertainment')\n",
    "plt.ylabel('Hours')\n",
    "plt.show()\n"
   ]
  },
  {
   "cell_type": "code",
   "execution_count": 20,
   "metadata": {},
   "outputs": [
    {
     "data": {
      "image/png": "[encoded data removed]",
      "text/plain": [
       "<Figure size 720x432 with 1 Axes>"
      ]
     },
     "metadata": {
      "needs_background": "light"
     },
     "output_type": "display_data"
    }
   ],
   "source": [
    "# Create Histogram using matplotlib and seaborn\n",
    "plt.figure(figsize=(10,6))\n",
    "plt.title('Histogram of Hours')\n",
    "plt.xlabel('Hours')\n",
    "plt.ylabel('Frequency')\n",
    "plt.hist(df['Hours'], bins=20, color='blue', alpha=0.5)\n",
    "plt.show()\n"
   ]
  },
  {
   "cell_type": "code",
   "execution_count": 15,
   "metadata": {},
   "outputs": [
    {
     "data": {
      "image/png": "[encoded data removed]",
      "text/plain": [
       "<Figure size 1584x576 with 1 Axes>"
      ]
     },
     "metadata": {
      "needs_background": "light"
     },
     "output_type": "display_data"
    }
   ],
   "source": [
    "#Plot Entertainment vs Hours\n",
    "plt.figure(figsize=(22,8))\n",
    "plt.title('Entertainment vs Hours')\n",
    "plt.xlabel('Entertainment')\n",
    "plt.ylabel('Hours')\n",
    "plt.scatter(df['Entertainment'], df['Hours'], color='blue', alpha=0.5)\n",
    "plt.show()\n"
   ]
  },
  {
   "cell_type": "code",
   "execution_count": 16,
   "metadata": {},
   "outputs": [
    {
     "data": {
      "text/plain": [
       "(0.787, 2.325]    33\n",
       "(2.325, 3.85]     21\n",
       "(3.85, 5.375]     28\n",
       "(5.375, 6.9]       5\n",
       "(6.9, 8.425]       6\n",
       "(8.425, 9.95]      0\n",
       "(9.95, 11.475]     2\n",
       "(11.475, 13.0]     3\n",
       "Name: Hours, dtype: int64"
      ]
     },
     "execution_count": 16,
     "metadata": {},
     "output_type": "execute_result"
    }
   ],
   "source": [
    "# Create a frequency Distribution table with classes\n",
    "df['Hours'].value_counts(bins=8, sort=False)\n",
    "# append the frequency distribution table to the dataframe\n",
    "# df['Hours'].value_counts(bins=8, sort=False, normalize=True).mul(100).round(1).astype(str) + '%'\n",
    "\n"
   ]
  },
  {
   "cell_type": "code",
   "execution_count": 17,
   "metadata": {},
   "outputs": [
    {
     "data": {
      "text/plain": [
       "(0.787, 2.325]    33.7%\n",
       "(2.325, 3.85]     21.4%\n",
       "(3.85, 5.375]     28.6%\n",
       "(5.375, 6.9]       5.1%\n",
       "(6.9, 8.425]       6.1%\n",
       "(8.425, 9.95]      0.0%\n",
       "(9.95, 11.475]     2.0%\n",
       "(11.475, 13.0]     3.1%\n",
       "Name: Hours, dtype: object"
      ]
     },
     "execution_count": 17,
     "metadata": {},
     "output_type": "execute_result"
    }
   ],
   "source": [
    "# Create a frequence Distribution table with class limits, Relative Frequency and Cumulative Frequency\n",
    "df['Hours'].value_counts(bins=8, sort=False, normalize=True).mul(100).round(1).astype(str) + '%'\n",
    "\n",
    "\n",
    "\n",
    "\n",
    "\n"
   ]
  },
  {
   "cell_type": "code",
   "execution_count": null,
   "metadata": {},
   "outputs": [],
   "source": []
  }
 ],
 "metadata": {
  "kernelspec": {
   "display_name": "Python 3 (ipykernel)",
   "language": "python",
   "name": "python3"
  },
  "language_info": {
   "codemirror_mode": {
    "name": "ipython",
    "version": 3
   },
   "file_extension": ".py",
   "mimetype": "text/x-python",
   "name": "python",
   "nbconvert_exporter": "python",
   "pygments_lexer": "ipython3",
   "version": "3.10.5"
  },
  "vscode": {
   "interpreter": {
    "hash": "0df38451bb097d17e60967b9a23710763ae6ec22ddce554ba448691c623aba57"
   }
  }
 },
 "nbformat": 4,
 "nbformat_minor": 2
}
